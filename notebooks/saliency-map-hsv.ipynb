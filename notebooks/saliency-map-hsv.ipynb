{
 "cells": [
  {
   "cell_type": "code",
   "execution_count": 1,
   "metadata": {
    "collapsed": false
   },
   "outputs": [],
   "source": [
    "require 'hdf5'\n",
    "require 'image'"
   ]
  },
  {
   "cell_type": "code",
   "execution_count": 2,
   "metadata": {
    "collapsed": false
   },
   "outputs": [],
   "source": [
    "local colors = {{0,255,0},{255,0,0},{255,255,0},{0,0,255},{0,255,255},{255,0,255},{255,165,0}}\n",
    "\n",
    "function drawPoints(canvas, points)\n",
    "    local out = canvas:repeatTensor(3,1,1)\n",
    "    for i = 1,points:size(1) do\n",
    "        local _p = points[i]:repeatTensor(3,1,1)\n",
    "        out:cmul(1 - _p)\n",
    "        \n",
    "        for c = 1,_p:size(1) do\n",
    "            local _c = colors[i][c] / 255\n",
    "            _p[c]:mul(_c)\n",
    "        end\n",
    "        out:add(_p)\n",
    "    end\n",
    "    return out\n",
    "end"
   ]
  },
  {
   "cell_type": "code",
   "execution_count": 3,
   "metadata": {
    "collapsed": true
   },
   "outputs": [],
   "source": [
    "local hues = {2/6,0,1/6,4/6,3/6,5/6,1/12}\n",
    "\n",
    "function drawSaliency(canvas, saliencies)\n",
    "    local salSize = saliencies:size():totable()\n",
    "    salSize[2] = 3\n",
    "    local out = torch.FloatTensor(unpack(salSize)):zero()\n",
    "    \n",
    "    -- control hue\n",
    "    for i = 1,out:size(1) do\n",
    "        out[{{i},{1},{},{}}] = hues[i]\n",
    "    end\n",
    "    \n",
    "    -- control saturation\n",
    "    out[{{},{2},{},{}}] = saliencies\n",
    "    \n",
    "    -- control value\n",
    "    for i = 1,out:size(1) do\n",
    "        out[{{i},{3},{},{}}] = canvas\n",
    "    end\n",
    "    \n",
    "    -- hsv to rgb\n",
    "    for i = 1,out:size(1) do out[i] = image.hsv2rgb(out[i]) end\n",
    "    return out\n",
    "end"
   ]
  },
  {
   "cell_type": "code",
   "execution_count": 4,
   "metadata": {
    "collapsed": false
   },
   "outputs": [],
   "source": [
    "function inverse(input)\n",
    "    return 1 - input\n",
    "end\n",
    "\n",
    "function quantize(input, nq)\n",
    "    assert(input:dim() == 4)\n",
    "    \n",
    "    local out = input:clone()\n",
    "    \n",
    "    local function helper(arr)\n",
    "        local _mask = arr:gt(0)\n",
    "        if not _mask:any() then return arr end\n",
    "        local nonZero = arr:maskedSelect(_mask)     \n",
    "        nonZero = nonZero:view(-1)\n",
    "        local sortVal, _ = nonZero:sort(1, true)\n",
    "        local out = arr:clone()\n",
    "        \n",
    "        for i = nq,1,-1 do\n",
    "            local _th = sortVal[math.ceil(nonZero:size(1) * i / nq)]\n",
    "            local _mask = arr:ge(_th)\n",
    "            local _val = (nq-i+1) / (nq)\n",
    "            out:maskedFill(_mask, _val)\n",
    "        end\n",
    "\n",
    "        return out\n",
    "    end\n",
    "    \n",
    "    for i = 1,out:size(1) do out[i] = helper(out[i]) end\n",
    "    return out\n",
    "end\n",
    "\n",
    "function display(tensor, samples)\n",
    "    local tb = {}\n",
    "    for i = 1,#samples do\n",
    "        tb[#tb+1] = tensor[samples[i]]\n",
    "        if #tb >= 5 or i == #samples then\n",
    "            itorch.image(tb)\n",
    "            tb = {}\n",
    "        end\n",
    "    end\n",
    "end"
   ]
  },
  {
   "cell_type": "code",
   "execution_count": 7,
   "metadata": {
    "collapsed": false
   },
   "outputs": [
    {
     "data": {
      "text/plain": [
       "-------prnmg2+tra-gauss--------\t\n"
      ]
     },
     "execution_count": 7,
     "metadata": {},
     "output_type": "execute_result"
    },
    {
     "data": {
      "image/png": "[encoded data removed]",
      "text/plain": [
       "Console does not support images"
      ]
     },
     "metadata": {
      "image/png": {
       "height": 64,
       "width": 64
      }
     },
     "output_type": "display_data"
    },
    {
     "data": {
      "image/png": "[encoded data removed]",
      "text/plain": [
       "Console does not support images"
      ]
     },
     "metadata": {
      "image/png": {
       "height": 64,
       "width": 64
      }
     },
     "output_type": "display_data"
    },
    {
     "data": {
      "image/png": "[encoded data removed]",
      "text/plain": [
       "Console does not support images"
      ]
     },
     "metadata": {
      "image/png": {
       "height": 64,
       "width": 64
      }
     },
     "output_type": "display_data"
    },
    {
     "data": {
      "image/png": "[encoded data removed]",
      "text/plain": [
       "Console does not support images"
      ]
     },
     "metadata": {
      "image/png": {
       "height": 64,
       "width": 64
      }
     },
     "output_type": "display_data"
    },
    {
     "data": {
      "image/png": "[encoded data removed]",
      "text/plain": [
       "Console does not support images"
      ]
     },
     "metadata": {
      "image/png": {
       "height": 64,
       "width": 64
      }
     },
     "output_type": "display_data"
    },
    {
     "data": {
      "image/png": "[encoded data removed]",
      "text/plain": [
       "Console does not support images"
      ]
     },
     "metadata": {
      "image/png": {
       "height": 64,
       "width": 64
      }
     },
     "output_type": "display_data"
    },
    {
     "data": {
      "image/png": "[encoded data removed]",
      "text/plain": [
       "Console does not support images"
      ]
     },
     "metadata": {
      "image/png": {
       "height": 64,
       "width": 64
      }
     },
     "output_type": "display_data"
    },
    {
     "data": {
      "image/png": "[encoded data removed]",
      "text/plain": [
       "Console does not support images"
      ]
     },
     "metadata": {
      "image/png": {
       "height": 64,
       "width": 64
      }
     },
     "output_type": "display_data"
    },
    {
     "data": {
      "image/png": "[encoded data removed]",
      "text/plain": [
       "Console does not support images"
      ]
     },
     "metadata": {
      "image/png": {
       "height": 64,
       "width": 64
      }
     },
     "output_type": "display_data"
    },
    {
     "data": {
      "image/png": "[encoded data removed]",
      "text/plain": [
       "Console does not support images"
      ]
     },
     "metadata": {
      "image/png": {
       "height": 64,
       "width": 64
      }
     },
     "output_type": "display_data"
    },
    {
     "data": {
      "text/plain": [
       "-------prnmg2+tra2-gauss--------\t\n"
      ]
     },
     "execution_count": 7,
     "metadata": {},
     "output_type": "execute_result"
    },
    {
     "data": {
      "image/png": "[encoded data removed]",
      "text/plain": [
       "Console does not support images"
      ]
     },
     "metadata": {
      "image/png": {
       "height": 64,
       "width": 64
      }
     },
     "output_type": "display_data"
    },
    {
     "data": {
      "image/png": "[encoded data removed]",
      "text/plain": [
       "Console does not support images"
      ]
     },
     "metadata": {
      "image/png": {
       "height": 64,
       "width": 64
      }
     },
     "output_type": "display_data"
    },
    {
     "data": {
      "image/png": "[encoded data removed]",
      "text/plain": [
       "Console does not support images"
      ]
     },
     "metadata": {
      "image/png": {
       "height": 64,
       "width": 64
      }
     },
     "output_type": "display_data"
    },
    {
     "data": {
      "image/png": "[encoded data removed]",
      "text/plain": [
       "Console does not support images"
      ]
     },
     "metadata": {
      "image/png": {
       "height": 64,
       "width": 64
      }
     },
     "output_type": "display_data"
    },
    {
     "data": {
      "image/png": "[encoded data removed]",
      "text/plain": [
       "Console does not support images"
      ]
     },
     "metadata": {
      "image/png": {
       "height": 64,
       "width": 64
      }
     },
     "output_type": "display_data"
    },
    {
     "data": {
      "image/png": "[encoded data removed]",
      "text/plain": [
       "Console does not support images"
      ]
     },
     "metadata": {
      "image/png": {
       "height": 64,
       "width": 64
      }
     },
     "output_type": "display_data"
    },
    {
     "data": {
      "image/png": "[encoded data removed]",
      "text/plain": [
       "Console does not support images"
      ]
     },
     "metadata": {
      "image/png": {
       "height": 64,
       "width": 64
      }
     },
     "output_type": "display_data"
    },
    {
     "data": {
      "image/png": "[encoded data removed]",
      "text/plain": [
       "Console does not support images"
      ]
     },
     "metadata": {
      "image/png": {
       "height": 64,
       "width": 64
      }
     },
     "output_type": "display_data"
    },
    {
     "data": {
      "image/png": "[encoded data removed]",
      "text/plain": [
       "Console does not support images"
      ]
     },
     "metadata": {
      "image/png": {
       "height": 64,
       "width": 64
      }
     },
     "output_type": "display_data"
    },
    {
     "data": {
      "image/png": "[encoded data removed]",
      "text/plain": [
       "Console does not support images"
      ]
     },
     "metadata": {
      "image/png": {
       "height": 64,
       "width": 64
      }
     },
     "output_type": "display_data"
    },
    {
     "data": {
      "text/plain": [
       "-------prnmg2+tra3-gauss--------\t\n"
      ]
     },
     "execution_count": 7,
     "metadata": {},
     "output_type": "execute_result"
    },
    {
     "data": {
      "image/png": "[encoded data removed]",
      "text/plain": [
       "Console does not support images"
      ]
     },
     "metadata": {
      "image/png": {
       "height": 64,
       "width": 64
      }
     },
     "output_type": "display_data"
    },
    {
     "data": {
      "image/png": "[encoded data removed]",
      "text/plain": [
       "Console does not support images"
      ]
     },
     "metadata": {
      "image/png": {
       "height": 64,
       "width": 64
      }
     },
     "output_type": "display_data"
    },
    {
     "data": {
      "image/png": "[encoded data removed]",
      "text/plain": [
       "Console does not support images"
      ]
     },
     "metadata": {
      "image/png": {
       "height": 64,
       "width": 64
      }
     },
     "output_type": "display_data"
    },
    {
     "data": {
      "image/png": "[encoded data removed]",
      "text/plain": [
       "Console does not support images"
      ]
     },
     "metadata": {
      "image/png": {
       "height": 64,
       "width": 64
      }
     },
     "output_type": "display_data"
    },
    {
     "data": {
      "image/png": "[encoded data removed]",
      "text/plain": [
       "Console does not support images"
      ]
     },
     "metadata": {
      "image/png": {
       "height": 64,
       "width": 64
      }
     },
     "output_type": "display_data"
    },
    {
     "data": {
      "image/png": "[encoded data removed]",
      "text/plain": [
       "Console does not support images"
      ]
     },
     "metadata": {
      "image/png": {
       "height": 64,
       "width": 64
      }
     },
     "output_type": "display_data"
    },
    {
     "data": {
      "image/png": "[encoded data removed]",
      "text/plain": [
       "Console does not support images"
      ]
     },
     "metadata": {
      "image/png": {
       "height": 64,
       "width": 64
      }
     },
     "output_type": "display_data"
    },
    {
     "data": {
      "image/png": "[encoded data removed]",
      "text/plain": [
       "Console does not support images"
      ]
     },
     "metadata": {
      "image/png": {
       "height": 64,
       "width": 64
      }
     },
     "output_type": "display_data"
    },
    {
     "data": {
      "image/png": "[encoded data removed]",
      "text/plain": [
       "Console does not support images"
      ]
     },
     "metadata": {
      "image/png": {
       "height": 64,
       "width": 64
      }
     },
     "output_type": "display_data"
    },
    {
     "data": {
      "image/png": "[encoded data removed]",
      "text/plain": [
       "Console does not support images"
      ]
     },
     "metadata": {
      "image/png": {
       "height": 64,
       "width": 64
      }
     },
     "output_type": "display_data"
    }
   ],
   "source": [
    "local inds = {30}\n",
    "\n",
    "local nets = {'unet', 'pnmg', 'prnmg'}\n",
    "local tasks = {'tra-gauss'}\n",
    "local template = '../checkpoint/mnist-saliency/TASK/NET/testOutput.h5'\n",
    "\n",
    "for _, net in ipairs(nets) do\n",
    "    for _, task in ipairs(tasks) do\n",
    "        local f = template:gsub('TASK', task):gsub('NET', net)\n",
    "        db = hdf5.open(f, 'r')\n",
    "        print('-------'..net.. '+'..task..'--------')\n",
    "\n",
    "        for _, ind in ipairs(inds) do\n",
    "            local id = string.format('id%05d', ind)\n",
    "            local inputs = db:read(id..'/input'):all()\n",
    "            local points = db:read(id..'/points'):all()\n",
    "            local outputs = db:read(id..'/output'):all()\n",
    "            local sals = db:read(id..'/saliency'):all()\n",
    "\n",
    "            -- normalize sals\n",
    "            local maxSals = sals:max(4):max(3):expandAs(sals)\n",
    "            sals:cdiv(maxSals+1e-12)\n",
    "\n",
    "            local input = inverse(inputs[1]*0.2746 + 0.1141)\n",
    "            local output = inverse(outputs[1])\n",
    "            local drawedOutput = drawPoints(output, points)\n",
    "\n",
    "            itorch.image(input)\n",
    "            itorch.image(drawedOutput)\n",
    "            -- select yellow and blue points\n",
    "            local gb = torch.Tensor({0,0,1,1,1,1,1}):byte():view(7,1,1,1):expandAs(points)\n",
    "            points:maskedFill(gb, 0)\n",
    "            itorch.image(drawPoints(output, points))\n",
    "\n",
    "            local colorSals = drawSaliency(input:ge(0.5):float(), quantize(sals, 10))\n",
    "            for i = 1,colorSals:size(1) do\n",
    "                itorch.image(colorSals[i])\n",
    "            end\n",
    "        end\n",
    "\n",
    "        db:close()\n",
    "    end\n",
    "end"
   ]
  }
 ],
 "metadata": {
  "kernelspec": {
   "display_name": "iTorch",
   "language": "lua",
   "name": "itorch"
  },
  "language_info": {
   "name": "lua",
   "version": "5.1"
  }
 },
 "nbformat": 4,
 "nbformat_minor": 1
}
